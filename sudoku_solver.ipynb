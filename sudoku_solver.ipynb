{
  "nbformat": 4,
  "nbformat_minor": 0,
  "metadata": {
    "colab": {
      "name": "sudoku_solver.ipynb",
      "provenance": [],
      "toc_visible": true,
      "collapsed_sections": []
    },
    "kernelspec": {
      "name": "python3",
      "display_name": "Python 3"
    },
    "language_info": {
      "name": "python"
    }
  },
  "cells": [
    {
      "cell_type": "markdown",
      "source": [
        "In this notebook several methods for solving sudokus are implemented.\n",
        "\n",
        "* In the ***Human rules*** section the implemented rules are the ones I use when solving a sudoku by my own. They are separated in 3 levels of complexity and, using the most advanced ones is possible to solve every sudoku.\n",
        "\n",
        "* In the ***Backtraking*** section the backtraking algorithm is implemented (https://medium.com/swlh/simple-sudoku-with-backtracking-bb4813ddabb1)"
      ],
      "metadata": {
        "id": "AcWbqBKA70V3"
      }
    },
    {
      "cell_type": "markdown",
      "source": [
        "# Libraries and functions"
      ],
      "metadata": {
        "id": "ozpRiKlRdZCH"
      }
    },
    {
      "cell_type": "code",
      "execution_count": 1,
      "metadata": {
        "id": "Mo6QISMCc2IK"
      },
      "outputs": [],
      "source": [
        "import numpy as np\n",
        "import copy"
      ]
    },
    {
      "cell_type": "code",
      "source": [
        "def make_squares(sudoku):\n",
        "\n",
        "  if type(sudoku) != type(np.arange(1)):\n",
        "    print(\"The argument is not an array\")\n",
        "    return \"The argument is not an array\"\n",
        "\n",
        "  if sudoku.shape != (9,9):\n",
        "    print(\"Array doesn't have correct dimensions (9x9)\")\n",
        "    return (\"Array doesn't have correct dimensions (9x9\")\n",
        "  \n",
        "  squares = []\n",
        "  squares.append(sudoku[0:3,0:3])\n",
        "  squares.append(sudoku[0:3,3:6])\n",
        "  squares.append(sudoku[0:3,6:9])\n",
        "  squares.append(sudoku[3:6,0:3])\n",
        "  squares.append(sudoku[3:6,3:6])\n",
        "  squares.append(sudoku[3:6,6:9])\n",
        "  squares.append(sudoku[6:9,0:3])\n",
        "  squares.append(sudoku[6:9,3:6])\n",
        "  squares.append(sudoku[6:9,6:9])\n",
        "\n",
        "  return squares\n",
        "\n",
        "def find_duplicates_in_matrix(matrix, count_zeros):\n",
        "  duplicates = []\n",
        "  for row in matrix:\n",
        "    unique_list = []\n",
        "    row_duplicates = []\n",
        "    for number in row:\n",
        "      if number not in unique_list:\n",
        "        unique_list.append(number)\n",
        "      else:\n",
        "        if count_zeros:\n",
        "          row_duplicates.append(number)\n",
        "        elif number!=0:\n",
        "          row_duplicates.append(number)\n",
        "\n",
        "    duplicates.append(row_duplicates)\n",
        "    \n",
        "  return duplicates\n",
        "\n",
        "def check_sudoku(sudoku, count_zeros=True, verbose=False):\n",
        "  correct_sudoku = True\n",
        "\n",
        "  # Check rows\n",
        "  row_duplicates = find_duplicates_in_matrix(sudoku, count_zeros)\n",
        "  if sum([len(row) for row in row_duplicates]) != 0:\n",
        "    print(\"1 or more elements repeated in a row\")\n",
        "    if verbose:\n",
        "      print(row_duplicates)\n",
        "    correct_sudoku = False\n",
        "\n",
        "  # Check columns\n",
        "  col_duplicates = find_duplicates_in_matrix(sudoku.transpose(), count_zeros)\n",
        "  if sum([len(row) for row in col_duplicates]) != 0:\n",
        "    print(\"1 or more elements repeated in a column\")\n",
        "    if verbose:\n",
        "      print(col_duplicates)\n",
        "    correct_sudoku = False\n",
        "    \n",
        "  # Check squares\n",
        "  squares = make_squares(sudoku)\n",
        "  square_matrix = np.zeros((9,9), dtype=int)\n",
        "  for index, square in enumerate(squares):\n",
        "    square_matrix[index,:] = square.flatten()\n",
        "\n",
        "  square_duplicates = find_duplicates_in_matrix(square_matrix, count_zeros)\n",
        "  if sum([len(row) for row in square_duplicates]) != 0:\n",
        "    print(\"1 or more elements repeated in a square\")\n",
        "    if verbose:\n",
        "      print(square_duplicates)\n",
        "    correct_sudoku = False\n",
        "\n",
        "  return correct_sudoku\n",
        "\n",
        "def assing_square_index(row_index, col_index):\n",
        "  square_index = -1\n",
        "  if row_index < 3:\n",
        "    if col_index < 3:\n",
        "      square_index = 0\n",
        "    if 3 <= col_index < 6:\n",
        "      square_index = 1\n",
        "    if 6 <= col_index < 9:\n",
        "      square_index = 2\n",
        "  elif 3 <= row_index < 6:\n",
        "    if col_index < 3:\n",
        "      square_index = 3\n",
        "    if 3 <= col_index < 6:\n",
        "      square_index = 4\n",
        "    if 6 <= col_index < 9:\n",
        "      square_index = 5\n",
        "  elif 6 <= row_index < 9:\n",
        "    if col_index < 3:\n",
        "      square_index = 6\n",
        "    if 3 <= col_index < 6:\n",
        "      square_index = 7\n",
        "    if 6 <= col_index < 9:\n",
        "      square_index = 8\n",
        "  return square_index\n",
        "\n",
        "def try_number(sudoku, number, row_index, col_index):\n",
        "  correct_number = 1\n",
        "\n",
        "  correct_number = 0 if number in sudoku[row_index,:] else correct_number\n",
        "  correct_number = 0 if number in sudoku[:, col_index] else correct_number\n",
        "\n",
        "  squares = make_squares(sudoku)\n",
        "  square_index = assing_square_index(row_index, col_index)\n",
        "  correct_number = 0 if number in squares[square_index] else correct_number\n",
        "\n",
        "  return correct_number\n",
        "\n",
        "def square_coords_to_cartesian(square_index, square_position):\n",
        "  # Minimum row and column\n",
        "  switcher_1 = {\n",
        "        0: [0,0],\n",
        "        1: [0,3],\n",
        "        2: [0,6],\n",
        "        3: [3,0],\n",
        "        4: [3,3],\n",
        "        5: [3,6],\n",
        "        6: [6,0],\n",
        "        7: [6,3],\n",
        "        8: [6,6],\n",
        "    } \n",
        "  # Adding\n",
        "  switcher_2 = {\n",
        "        0: [0,0],\n",
        "        1: [0,1],\n",
        "        2: [0,2],\n",
        "        3: [1,0],\n",
        "        4: [1,1],\n",
        "        5: [1,2],\n",
        "        6: [2,0],\n",
        "        7: [2,1],\n",
        "        8: [2,2],\n",
        "    } \n",
        "\n",
        "  cartesian_position = np.asarray(switcher_1.get(square_index, \"Invalid square index\"))\n",
        "  cartesian_position = np.add(cartesian_position, np.asarray(switcher_2.get(square_position, \"Invalid square position\")))\n",
        "  return cartesian_position"
      ],
      "metadata": {
        "id": "s-FTBhahea8a"
      },
      "execution_count": 2,
      "outputs": []
    },
    {
      "cell_type": "markdown",
      "source": [
        "# Sudoku samples"
      ],
      "metadata": {
        "id": "hYFxNOrh7e34"
      }
    },
    {
      "cell_type": "markdown",
      "source": [
        "## BEGINNER"
      ],
      "metadata": {
        "id": "uRLY1wJt6suI"
      }
    },
    {
      "cell_type": "code",
      "source": [
        "sudoku = np.asarray([[3,9,0,6,1,5,0,0,7],\n",
        "                     [4,1,5,9,7,2,0,3,8],\n",
        "                     [2,7,6,0,0,4,5,0,1],\n",
        "                     [7,8,2,0,6,3,0,1,9],\n",
        "                     [0,5,3,0,4,9,0,0,2],\n",
        "                     [9,4,1,2,8,7,0,6,5],\n",
        "                     [0,2,7,3,0,0,0,0,0],\n",
        "                     [1,0,4,7,5,0,9,2,0],\n",
        "                     [8,6,9,0,2,1,7,5,3]])"
      ],
      "metadata": {
        "id": "lINTCcUhUrTK"
      },
      "execution_count": 3,
      "outputs": []
    },
    {
      "cell_type": "markdown",
      "source": [
        "## EASY"
      ],
      "metadata": {
        "id": "Vae14vXV6yDk"
      }
    },
    {
      "cell_type": "code",
      "source": [
        "sudoku = np.asarray([[6,8,5,0,3,0,2,9,4],\n",
        "                     [0,0,0,0,9,2,0,0,5],\n",
        "                     [0,0,3,0,5,6,0,7,0],\n",
        "                     [2,1,9,6,8,3,5,4,0],\n",
        "                     [4,5,0,9,2,0,0,8,0],\n",
        "                     [0,0,8,0,0,5,1,2,0],\n",
        "                     [0,0,0,0,0,9,0,1,0],\n",
        "                     [1,9,0,0,7,0,4,6,0],\n",
        "                     [8,7,6,3,1,0,9,0,0]])"
      ],
      "metadata": {
        "id": "ybWlZFM_o9st"
      },
      "execution_count": 4,
      "outputs": []
    },
    {
      "cell_type": "markdown",
      "source": [
        "## MEDIUM"
      ],
      "metadata": {
        "id": "gBMiVwTH6yXf"
      }
    },
    {
      "cell_type": "code",
      "source": [
        "sudoku = np.asarray([[0,0,0,7,9,3,0,0,0],\n",
        "                     [0,9,0,5,2,1,4,0,0],\n",
        "                     [7,0,0,0,0,0,0,0,9],\n",
        "                     [2,0,0,4,3,0,7,0,0],\n",
        "                     [0,0,9,8,1,7,3,5,0],\n",
        "                     [3,0,0,0,5,0,0,0,8],\n",
        "                     [0,6,0,0,8,5,0,7,0],\n",
        "                     [0,0,0,0,6,2,8,9,1],\n",
        "                     [0,8,0,9,0,0,0,0,0]])"
      ],
      "metadata": {
        "id": "XbDbFOHrqRfm"
      },
      "execution_count": 5,
      "outputs": []
    },
    {
      "cell_type": "markdown",
      "source": [
        "## HARD"
      ],
      "metadata": {
        "id": "eUJPZWTA67vj"
      }
    },
    {
      "cell_type": "code",
      "source": [
        "sudoku = np.asarray([[0,0,6,0,8,0,1,0,0],\n",
        "                     [0,0,5,6,0,0,0,0,0],\n",
        "                     [9,0,0,0,0,1,4,0,3],\n",
        "                     [0,1,0,2,0,0,3,0,0],\n",
        "                     [0,0,3,0,0,4,0,8,0],\n",
        "                     [2,0,0,0,9,0,0,0,0],\n",
        "                     [0,0,0,0,0,2,0,7,0],\n",
        "                     [0,6,0,0,0,0,0,3,0],\n",
        "                     [0,2,0,9,7,0,0,0,0]])"
      ],
      "metadata": {
        "id": "c1usnsijrKSL"
      },
      "execution_count": 6,
      "outputs": []
    },
    {
      "cell_type": "code",
      "source": [
        "sudoku = np.asarray([[9,0,7,0,8,0,0,0,0],\n",
        "                     [4,0,0,0,0,0,9,2,0],\n",
        "                     [3,0,6,0,0,9,8,1,0],\n",
        "                     [8,0,0,0,0,6,0,0,9],\n",
        "                     [5,7,0,0,9,0,0,6,8],\n",
        "                     [6,9,1,8,5,3,7,4,2],\n",
        "                     [7,0,0,5,0,0,2,9,0],\n",
        "                     [2,0,0,9,0,0,0,7,0],\n",
        "                     [1,0,9,2,0,7,6,8,0]])"
      ],
      "metadata": {
        "id": "6gHKF_KMOmuu"
      },
      "execution_count": 7,
      "outputs": []
    },
    {
      "cell_type": "markdown",
      "source": [
        "# Human rules\n"
      ],
      "metadata": {
        "id": "f7H-_VuWU2Sn"
      }
    },
    {
      "cell_type": "markdown",
      "source": [
        "## Basic\n",
        "\n",
        "Check cell by cell if only one number can be written or not --> basic checking if same number is in the same row, column or square"
      ],
      "metadata": {
        "id": "DDB5bQ3Blvrv"
      }
    },
    {
      "cell_type": "code",
      "source": [
        "n_iter, max_iters = 1, 10\n",
        "sudoku_to_solve = sudoku\n",
        "solved_sudoku = copy.deepcopy(sudoku_to_solve) \n",
        "print(\"There are \", sudoku.size - np.count_nonzero(sudoku),\" numbers left to be writen\")\n",
        "\n",
        "while (solved_sudoku.size - np.count_nonzero(solved_sudoku)>0 and n_iter<=max_iters):\n",
        "\n",
        "  for row_index in range(9):\n",
        "    for col_index in range(9):\n",
        "      cell = sudoku_to_solve[row_index, col_index]\n",
        "      if cell==0:\n",
        "        tried_numbers = [try_number(sudoku_to_solve, number, row_index, col_index) for number in range(1,10)]\n",
        "        if sum(tried_numbers) == 1:\n",
        "          correct_number = tried_numbers.index(1) + 1\n",
        "          solved_sudoku[row_index, col_index] = correct_number\n",
        "          # print(\"The number  \",correct_number,\" has been writen in \", row_index, col_index)\n",
        "        elif sum(tried_numbers) == 0:\n",
        "          print(\"ERROR: The algorithm couldn't find a number that fits in\")\n",
        "\n",
        "  print(\"Iteration no.\", n_iter, \"--> There are \", solved_sudoku.size - np.count_nonzero(solved_sudoku),\" numbers left to be writen\")\n",
        "  sudoku_to_solve = solved_sudoku\n",
        "  n_iter+=1\n",
        "\n",
        "if solved_sudoku.size - np.count_nonzero(solved_sudoku) == 0:\n",
        "  print(\"\\n*** ¡Sudoku has been solved! \", check_sudoku(solved_sudoku))\n",
        "  display(solved_sudoku)\n",
        "else:\n",
        "  print(\"Sudoku couldn't be solved, the maximum number of iterations has been reached\")"
      ],
      "metadata": {
        "colab": {
          "base_uri": "https://localhost:8080/"
        },
        "id": "BiVldS44bM98",
        "outputId": "24f14020-4ec8-47a8-928d-5bd5a184eeb5"
      },
      "execution_count": 8,
      "outputs": [
        {
          "output_type": "stream",
          "name": "stdout",
          "text": [
            "There are  40  numbers left to be writen\n",
            "Iteration no. 1 --> There are  40  numbers left to be writen\n",
            "Iteration no. 2 --> There are  40  numbers left to be writen\n",
            "Iteration no. 3 --> There are  40  numbers left to be writen\n",
            "Iteration no. 4 --> There are  40  numbers left to be writen\n",
            "Iteration no. 5 --> There are  40  numbers left to be writen\n",
            "Iteration no. 6 --> There are  40  numbers left to be writen\n",
            "Iteration no. 7 --> There are  40  numbers left to be writen\n",
            "Iteration no. 8 --> There are  40  numbers left to be writen\n",
            "Iteration no. 9 --> There are  40  numbers left to be writen\n",
            "Iteration no. 10 --> There are  40  numbers left to be writen\n",
            "Sudoku couldn't be solved, the maximum number of iterations has been reached\n"
          ]
        }
      ]
    },
    {
      "cell_type": "markdown",
      "source": [
        "## Medium\n",
        "\n",
        "In each row/column/square check the possible positions of each number.\n",
        "\n",
        "In each column of the ***position_matrix*** is represent\n",
        "\n",
        "In each column of the ***positions_matrix*** is represented one position of each row/column/square of the sudoku. And each row represents each tested number, the 9 numbers are tested in the 9 positions (in practice less, because they are only tested in the free positions) and 0 or 1 is set depending on whether or not each tested number can go in that cell.\n",
        "\n",
        "After filling the ***positions_matrix*** with 0 and 1, 2 conditions are checked to be able to add numbers to the sudoku:\n",
        "\n",
        "* If in a **column** of the ***position_matrix*** there is only one box with the value one it will mean that only that number can go in that box, so it will be added to the sudoku.\n",
        "\n",
        "* If in a **row** of the ***position_marix*** there is only one box with value 1 it means that the corresponding number can only go in that position of the row/columns/square, so it will be added to the sudoku."
      ],
      "metadata": {
        "id": "CMaMWjmPobaY"
      }
    },
    {
      "cell_type": "code",
      "source": [
        "n_iter, max_iters = 1, 10\n",
        "sudoku_to_solve = sudoku\n",
        "solved_sudoku = copy.deepcopy(sudoku_to_solve) \n",
        "print(\"There are \", sudoku.size - np.count_nonzero(sudoku),\" numbers left to be writen\")\n",
        "\n",
        "while (solved_sudoku.size - np.count_nonzero(solved_sudoku)>0 and n_iter<=max_iters):\n",
        "\n",
        "  # Rows\n",
        "  for row_index in range(9):\n",
        "    positions_matrix = np.zeros((9,9), dtype=int)\n",
        "    for col_index in range(9):\n",
        "      cell = solved_sudoku[row_index, col_index]\n",
        "      if cell==0:\n",
        "        positions_matrix[:,col_index] = [try_number(solved_sudoku, number, row_index, col_index) for number in range(1,10)]\n",
        "    for index, row in enumerate(positions_matrix):\n",
        "      if sum(row) == 1:\n",
        "        position = np.where(row == 1)[0][0]\n",
        "        solved_sudoku[row_index, position] = index+1\n",
        "        # print(\"The number \",index+1,\" has been writen in the position \", position+1, \" of the row no. \", row_index+1)\n",
        "    for index, col in enumerate(positions_matrix.transpose()):\n",
        "      if sum(col) == 1:\n",
        "        position = np.where(col == 1)[0][0]\n",
        "        solved_sudoku[row_index, index] = position+1\n",
        "\n",
        "  # Columns\n",
        "  for col_index in range(9):\n",
        "    positions_matrix = np.zeros((9,9), dtype=int)\n",
        "    for row_index in range(9):\n",
        "      cell = solved_sudoku[row_index, col_index]\n",
        "      if cell==0:\n",
        "        positions_matrix[:,row_index] = [try_number(solved_sudoku, number, row_index, col_index) for number in range(1,10)]\n",
        "    for index, col in enumerate(positions_matrix):\n",
        "      if sum(col) == 1:\n",
        "        position = np.where(col == 1)[0][0]\n",
        "        solved_sudoku[position, col_index] = index+1\n",
        "        # print(\"The number \",index+1,\" has been writen in the position \", position+1, \" from the column no. \", col_index+1)\n",
        "\n",
        "  # Squares\n",
        "  squares = make_squares(solved_sudoku)\n",
        "  for square_index in range(9):\n",
        "    positions_matrix = np.zeros((9,9), dtype=int)\n",
        "    for square_position in range(9):\n",
        "      cell = squares[square_index].flatten()[square_position]\n",
        "      # print(cell)\n",
        "      if cell==0:\n",
        "        row_index, col_index = square_coords_to_cartesian(square_index, square_position)   \n",
        "        positions_matrix[:,square_position] = [try_number(solved_sudoku, number, row_index, col_index) for number in range(1,10)]\n",
        "\n",
        "    for index, row in enumerate(positions_matrix):\n",
        "      if sum(row) == 1:\n",
        "        row_index, col_index = square_coords_to_cartesian(square_index, np.where(row == 1)[0][0])\n",
        "        solved_sudoku[row_index, col_index] = index+1\n",
        "        # print(\"The number \",index+1,\" has been writen in the position \", position+1, \" from the square no.o \", square_index+1)\n",
        "    \n",
        "  print(\"Iteration no. \", n_iter, \"--> There are \", solved_sudoku.size - np.count_nonzero(solved_sudoku),\" numbers left to be writen\")\n",
        "  # sudoku_to_solve = solved_sudoku\n",
        "  n_iter+=1\n",
        "\n",
        "if solved_sudoku.size - np.count_nonzero(solved_sudoku) == 0:\n",
        "  print(\"\\n*** The sudoku has been solved! \", check_sudoku(solved_sudoku))\n",
        "  display(solved_sudoku)\n",
        "else:\n",
        "  print(\"Sudoku couldn't be solved, the maximum number of iterations has been reached\")"
      ],
      "metadata": {
        "colab": {
          "base_uri": "https://localhost:8080/"
        },
        "id": "RRcN_-9Ugnv1",
        "outputId": "434db078-01e5-4d29-8090-b5bb86d1090a"
      },
      "execution_count": 9,
      "outputs": [
        {
          "output_type": "stream",
          "name": "stdout",
          "text": [
            "There are  40  numbers left to be writen\n",
            "Iteration no.  1 --> There are  40  numbers left to be writen\n",
            "Iteration no.  2 --> There are  40  numbers left to be writen\n",
            "Iteration no.  3 --> There are  40  numbers left to be writen\n",
            "Iteration no.  4 --> There are  40  numbers left to be writen\n",
            "Iteration no.  5 --> There are  40  numbers left to be writen\n",
            "Iteration no.  6 --> There are  40  numbers left to be writen\n",
            "Iteration no.  7 --> There are  40  numbers left to be writen\n",
            "Iteration no.  8 --> There are  40  numbers left to be writen\n",
            "Iteration no.  9 --> There are  40  numbers left to be writen\n",
            "Iteration no.  10 --> There are  40  numbers left to be writen\n",
            "Sudoku couldn't be solved, the maximum number of iterations has been reached\n"
          ]
        }
      ]
    },
    {
      "cell_type": "code",
      "source": [
        "solved_sudoku"
      ],
      "metadata": {
        "colab": {
          "base_uri": "https://localhost:8080/"
        },
        "id": "Bts33JlbomXV",
        "outputId": "0f1a5828-014f-46a4-b603-c397f5810a5e"
      },
      "execution_count": 10,
      "outputs": [
        {
          "output_type": "execute_result",
          "data": {
            "text/plain": [
              "array([[9, 0, 7, 0, 8, 0, 0, 0, 0],\n",
              "       [4, 0, 0, 0, 0, 0, 9, 2, 0],\n",
              "       [3, 0, 6, 0, 0, 9, 8, 1, 0],\n",
              "       [8, 0, 0, 0, 0, 6, 0, 0, 9],\n",
              "       [5, 7, 0, 0, 9, 0, 0, 6, 8],\n",
              "       [6, 9, 1, 8, 5, 3, 7, 4, 2],\n",
              "       [7, 0, 0, 5, 0, 0, 2, 9, 0],\n",
              "       [2, 0, 0, 9, 0, 0, 0, 7, 0],\n",
              "       [1, 0, 9, 2, 0, 7, 6, 8, 0]])"
            ]
          },
          "metadata": {},
          "execution_count": 10
        }
      ]
    },
    {
      "cell_type": "markdown",
      "source": [
        "## Advanced\n",
        "\n",
        "To be done, it's being developed.\n",
        "\n",
        "Some rules to be implemented are:\n",
        "\n",
        "* When ***n*** numbers can fit in ***n*** cells of a row/column/square but the position within those cells is unknown. These cells should count as filled when checking other numbers.\n",
        "* When a number can be in 2 or 3 positions inside a square, but those positions are aligned (they make a row or a column) this information can be used to deduce the position of that number in other square.\n"
      ],
      "metadata": {
        "id": "xhzamI4q7CqE"
      }
    },
    {
      "cell_type": "markdown",
      "source": [
        "# Backtracking\n",
        "\n",
        "* One by one, the algorithm will try to find a correct number of each zero cell, one that doesn't appear in that row, columns or aquare.\n",
        "* If the tried number is correct, the algorithm goes to the next zero cell to try to find a correct number there. \n",
        "* If no correct number can be found in a zero cell, the algorith goes to the previous zero cell and try to find another correct number. \n",
        "* The algorithm will go back and back in the zero cells until it finds a correct number for each zero cell."
      ],
      "metadata": {
        "id": "qv6nzNB8SrVM"
      }
    },
    {
      "cell_type": "code",
      "source": [
        "sudoku = np.asarray([[0,0,6,0,8,0,1,0,0],\n",
        "                     [0,0,5,6,0,0,0,0,0],\n",
        "                     [9,0,0,0,0,1,4,0,3],\n",
        "                     [0,1,0,2,0,0,3,0,0],\n",
        "                     [0,0,3,0,0,4,0,8,0],\n",
        "                     [2,0,0,0,9,0,0,0,0],\n",
        "                     [0,0,0,0,0,2,0,7,0],\n",
        "                     [0,6,0,0,0,0,0,3,0],\n",
        "                     [0,2,0,9,7,0,0,0,0]])"
      ],
      "metadata": {
        "id": "AM1QXYyaXGIT"
      },
      "execution_count": 11,
      "outputs": []
    },
    {
      "cell_type": "code",
      "source": [
        "sudoku_to_solve = copy.deepcopy(sudoku)\n",
        "n_step, max_steps = 1, 10000\n",
        "sudoku_finished = False\n",
        "\n",
        "# Get coordinates of the zeros\n",
        "it = np.nditer(sudoku_to_solve, flags=['multi_index'])\n",
        "zero_positions = []\n",
        "for x in it:\n",
        "  if x == 0:\n",
        "    zero_positions.append(it.multi_index)\n",
        "\n",
        "# tried_numbers saves the numbers tried for each position\n",
        "tried_numbers = np.zeros((len(zero_positions),9))\n",
        "\n",
        "position = 0\n",
        "n_positions = len(zero_positions)\n",
        "\n",
        "while not sudoku_finished and n_step<max_steps:\n",
        "\n",
        "  row_index, col_index = zero_positions[position]\n",
        "\n",
        "  found_number = False\n",
        "  for number in range(1,10):\n",
        "    if number in tried_numbers[position]:\n",
        "      continue\n",
        "    elif try_number(sudoku_to_solve, number, row_index, col_index):\n",
        "      tried_numbers[position,np.where(tried_numbers[position]==0)[0][0]] = number\n",
        "      sudoku_to_solve[row_index, col_index] = number\n",
        "      # print(\"The number %d has been writen in the position %d\" % (number, position))\n",
        "      position+=1\n",
        "      found_number = True\n",
        "      break\n",
        "    elif not 0 in tried_numbers[position]:\n",
        "      print(\"No se ha podido encontrar solución\")\n",
        "      n_step = max_steps\n",
        "      break\n",
        "\n",
        "  if not found_number and position !=0:\n",
        "    sudoku_to_solve[row_index, col_index] = 0\n",
        "    tried_numbers[position] = np.zeros(9)\n",
        "    position-=1\n",
        "  elif not found_number and position ==0:\n",
        "    print(\"A solution couldn't be founded\")\n",
        "    break\n",
        "\n",
        "  if position == n_positions:\n",
        "    sudoku_finished = True\n",
        "    print(\"\\n ***The sudoku has been solved!!\", check_sudoku(sudoku_to_solve))\n",
        "    print(\"Number of total iterations: \", n_step)\n",
        "  n_step+=1\n",
        "\n",
        "display(sudoku_to_solve)"
      ],
      "metadata": {
        "colab": {
          "base_uri": "https://localhost:8080/",
          "height": 236
        },
        "id": "6aGUcRJyXVXJ",
        "outputId": "586d2c86-8fdb-4305-bff7-75b89297e79f"
      },
      "execution_count": 12,
      "outputs": [
        {
          "output_type": "stream",
          "name": "stdout",
          "text": [
            "\n",
            " ***The sudoku has been solved!! True\n",
            "Number of total iterations:  6635\n"
          ]
        },
        {
          "output_type": "display_data",
          "data": {
            "text/plain": [
              "array([[7, 3, 6, 4, 8, 9, 1, 2, 5],\n",
              "       [1, 4, 5, 6, 2, 3, 7, 9, 8],\n",
              "       [9, 8, 2, 7, 5, 1, 4, 6, 3],\n",
              "       [5, 1, 8, 2, 6, 7, 3, 4, 9],\n",
              "       [6, 9, 3, 5, 1, 4, 2, 8, 7],\n",
              "       [2, 7, 4, 3, 9, 8, 5, 1, 6],\n",
              "       [4, 5, 9, 8, 3, 2, 6, 7, 1],\n",
              "       [8, 6, 7, 1, 4, 5, 9, 3, 2],\n",
              "       [3, 2, 1, 9, 7, 6, 8, 5, 4]])"
            ]
          },
          "metadata": {}
        }
      ]
    },
    {
      "cell_type": "markdown",
      "source": [
        "## Backtraking visualization\n",
        "\n",
        "To be done, it's being developed."
      ],
      "metadata": {
        "id": "78cRz6I6lV4b"
      }
    }
  ]
}